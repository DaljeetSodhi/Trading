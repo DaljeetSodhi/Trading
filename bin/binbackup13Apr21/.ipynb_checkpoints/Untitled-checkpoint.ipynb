{
 "cells": [
  {
   "cell_type": "code",
   "execution_count": 2,
   "metadata": {},
   "outputs": [
    {
     "name": "stdout",
     "output_type": "stream",
     "text": [
      "[{'Currently': 'Invested', 'Value': 24628351, '': '', 'Year': 2014, 'YInvested': 218158, 'Gain': 123215, 'Dividend': 73425, 'IRR%': '56.48%', 'Nifty%': 18.69, 'NiftyGain': 40774, 'FD%': 9, 'FD Gain': 19634}, {'Currently': 'Market Value', 'Value': 13820097, '': '', 'Year': 2015, 'YInvested': 4024794, 'Gain': 1568907, 'Dividend': 76700, 'IRR%': '38.98%', 'Nifty%': 25.15, 'NiftyGain': 1012236, 'FD%': 8.5, 'FD Gain': 342107}, {'Currently': 'Market Gain', 'Value': -10808254, '': '', 'Year': 2016, 'YInvested': 556820, 'Gain': '389,969', 'Dividend': 238631, 'IRR%': '70.04%', 'Nifty%': -10.32, 'NiftyGain': -57464, 'FD%': 8, 'FD Gain': 44546}, {'Currently': 'Realized Gain', 'Value': 8806582, '': '', 'Year': 2017, 'YInvested': 4553887, 'Gain': 641690, 'Dividend': 140943, 'IRR%': '14.09%', 'Nifty%': 17.22, 'NiftyGain': 784179, 'FD%': 8, 'FD Gain': 364311}, {'Currently': 'Overall Gain', 'Value': -2001672, '': '', 'Year': 2018, 'YInvested': 8219367, 'Gain': 2344657, 'Dividend': 219298, 'IRR%': '28.53%', 'Nifty%': 11.35, 'NiftyGain': 932898, 'FD%': 7.5, 'FD Gain': 616453}, {'Currently': '', 'Value': '', '': '', 'Year': 2019, 'YInvested': 8758201, 'Gain': 1897010, 'Dividend': 599193, 'IRR%': '21.66%', 'Nifty%': 14.93, 'NiftyGain': 1307599, 'FD%': 7.5, 'FD Gain': 656865}, {'Currently': 'Sensex', 'Value': '0.22%', '': '', 'Year': 2020, 'YInvested': 10388329, 'Gain': 1446005, 'Dividend': 556632, 'IRR%': '13.92%', 'Nifty%': -26.03, 'NiftyGain': -2704082, 'FD%': 7, 'FD Gain': 727183}, {'Currently': 'Protfolio', 'Value': '1.07%', '': '', 'Year': 'YRInv', 'YInvested': 36719556, 'Gain': 8411453, 'Dividend': 1904822, 'IRR%': '22.91%', 'Nifty%': '3.58%', 'NiftyGain': 1316140, 'FD%': '7.55%', 'FD Gain': 2771099}, {'Currently': '', 'Value': '', '': '', 'Year': 'YURInv', 'YInvested': 66716234, 'Gain': '', 'Dividend': '', 'IRR%': '', 'Nifty%': '', 'NiftyGain': '', 'FD%': '', 'FD Gain': ''}, {'Currently': '', 'Value': '', '': '', 'Year': 'Total', 'YInvested': 103435790, 'Gain': '', 'Dividend': '1.84%', 'IRR%': '8.13%', 'Nifty%': '3.58%', 'NiftyGain': '', 'FD%': '7.55%', 'FD Gain': ''}, {'Currently': '', 'Value': '', '': '', 'Year': 2021, 'YInvested': 2062706, 'Gain': 395129, 'Dividend': 0, 'IRR%': '19.16%', 'Nifty%': '', 'NiftyGain': '', 'FD%': '', 'FD Gain': ''}, {'Currently': 'Recent Sell', 'Value': '', '': '', 'Year': '', 'YInvested': '', 'Gain': '', 'Dividend': '', 'IRR%': '', 'Nifty%': 'Recent Buy', 'NiftyGain': '', 'FD%': '', 'FD Gain': ''}, {'Currently': 'Stock ', 'Value': 'Qty ', '': 'Pivot', 'Year': 'Sell ', 'YInvested': 'LTP', 'Gain': '%', 'Dividend': 'YHL%', 'IRR%': 'Pivot', 'Nifty%': 'Stock ', 'NiftyGain': 'BuyDate ', 'FD%': 'Qty ', 'FD Gain': 'Buy '}, {'Currently': 'LUPIN', 'Value': 350, '': 1.13, 'Year': 978.0, 'YInvested': 984.5, 'Gain': '0.66%', 'Dividend': '90.48%', 'IRR%': -9.8, 'Nifty%': 'YESBANK', 'NiftyGain': '28-Jul-20', 'FD%': 25000, 'FD Gain': 11.71}, {'Currently': 'MOTHERSUMI', 'Value': 3000, '': 2.12, 'Year': 125.45, 'YInvested': 125.35, 'Gain': '-0.08%', 'Dividend': '74.94%', 'IRR%': -1.15, 'Nifty%': 'MCDOWELL-N', 'NiftyGain': '8-May-20', 'FD%': 600, 'FD Gain': 508.79}, {'Currently': 'MCDOWELL-N', 'Value': 600, '': -1.6, 'Year': 606.79, 'YInvested': 591.5, 'Gain': '-2.52%', 'Dividend': '49.61%', 'IRR%': 2.12, 'Nifty%': 'COALINDIA', 'NiftyGain': '13-Mar-20', 'FD%': 2000, 'FD Gain': 154.72}, {'Currently': 'SUNPHARMA', 'Value': 700, '': -1.15, 'Year': 474.15, 'YInvested': 526.3, 'Gain': '11.00%', 'Dividend': '89.74%', 'IRR%': -1.72, 'Nifty%': 'MOTHERSUMI', 'NiftyGain': '11-Mar-20', 'FD%': 3000, 'FD Gain': 91.05}, {'Currently': 'LUPIN', 'Value': 400, '': 2.67, 'Year': 821.55, 'YInvested': 984.5, 'Gain': '19.83%', 'Dividend': '90.48%', 'IRR%': -9.8, 'Nifty%': 'NMDC', 'NiftyGain': '11-Mar-20', 'FD%': 3600, 'FD Gain': 83.05}, {'Currently': 'BIOCON', 'Value': 1880, '': 0.03, 'Year': 332.91, 'YInvested': 396.7, 'Gain': '19.16%', 'Dividend': '78.70%', 'IRR%': 3.42, 'Nifty%': 'ITC', 'NiftyGain': '11-Feb-20', 'FD%': 1400, 'FD Gain': 212.78}, {'Currently': 'AJANTPHARM', 'Value': 280, '': 2.67, 'Year': 1375.38, 'YInvested': 1667.2, 'Gain': '21.22%', 'Dividend': '89.17%', 'IRR%': -24.35, 'Nifty%': 'NMDC', 'NiftyGain': '1-Feb-20', 'FD%': 2600, 'FD Gain': 114.93}, {'Currently': 'NMDC', 'Value': 3600, '': -0.27, 'Year': 73.3, 'YInvested': 97.6, 'Gain': '33.15%', 'Dividend': '46.13%', 'IRR%': 2.67, 'Nifty%': 'TATAMOTORS', 'NiftyGain': '1-Feb-20', 'FD%': 1700, 'FD Gain': 166.42}, {'Currently': 'COALINDIA', 'Value': 2000, '': 1.77, 'Year': 131.6, 'YInvested': 135.35, 'Gain': '2.85%', 'Dividend': '16.42%', 'IRR%': -1.6, 'Nifty%': 'WELSPUNIND', 'NiftyGain': '31-Jan-20', 'FD%': 5800, 'FD Gain': 46.46}, {'Currently': 'SJVN', 'Value': 12500, '': -1.6, 'Year': 20.25, 'YInvested': 23.5, 'Gain': '16.05%', 'Dividend': '61.88%', 'IRR%': 0.35, 'Nifty%': 'COALINDIA', 'NiftyGain': '24-Jan-20', 'FD%': 1500, 'FD Gain': 193.53}, {'Currently': 'AJANTPHARM', 'Value': 280, '': 0.63, 'Year': 1360.89, 'YInvested': 1667.2, 'Gain': '22.51%', 'Dividend': '89.17%', 'IRR%': -24.35, 'Nifty%': 'BHEL', 'NiftyGain': '24-Jan-20', 'FD%': 6800, 'FD Gain': 43.85}, {'Currently': 'OFSS', 'Value': 107, '': 1.13, 'Year': 2945.95, 'YInvested': 3049.8, 'Gain': '3.53%', 'Dividend': '87.88%', 'IRR%': -25.13, 'Nifty%': 'YESBANK', 'NiftyGain': '24-Jan-20', 'FD%': 7000, 'FD Gain': 42.6}, {'Currently': 'YESBANK', 'Value': 7000, '': -25.13, 'Year': 38.8, 'YInvested': 15.8, 'Gain': '-59.28%', 'Dividend': '12.43%', 'IRR%': 1.13, 'Nifty%': 'OFSS', 'NiftyGain': '9-Jan-20', 'FD%': 107, 'FD Gain': 2797.29}, {'Currently': 'GDL', 'Value': 1982, '': -9.8, 'Year': 120.6, 'YInvested': 86.9, 'Gain': '-27.94%', 'Dividend': '25.85%', 'IRR%': 1.87, 'Nifty%': 'LUPIN', 'NiftyGain': '17-May-19', 'FD%': 400, 'FD Gain': 755.35}, {'Currently': 'TATAMOTORS', 'Value': 1700, '': 1.77, 'Year': 187.51, 'YInvested': 125.3, 'Gain': '-33.18%', 'Dividend': '44.72%', 'IRR%': -0.27, 'Nifty%': 'WELSPUNIND', 'NiftyGain': '17-May-19', 'FD%': 6000, 'FD Gain': 52.3}, {'Currently': '', 'Value': '', '': '', 'Year': '', 'YInvested': '', 'Gain': '', 'Dividend': '', 'IRR%': '', 'Nifty%': '', 'NiftyGain': '', 'FD%': '', 'FD Gain': ''}, {'Currently': 'Stock ', 'Value': 'Buy', '': '', 'Year': '%', 'YInvested': 'Today%', 'Gain': '', 'Dividend': '', 'IRR%': '', 'Nifty%': '', 'NiftyGain': '', 'FD%': '', 'FD Gain': ''}, {'Currently': 'ABAN', 'Value': 188.63, '': '', 'Year': '-85.21%', 'YInvested': -1.59, 'Gain': '', 'Dividend': '', 'IRR%': '', 'Nifty%': '', 'NiftyGain': '', 'FD%': '', 'FD Gain': ''}, {'Currently': 'APTECHT', 'Value': 258.36, '': '', 'Year': '-55.68%', 'YInvested': 0.44, 'Gain': '', 'Dividend': '', 'IRR%': '', 'Nifty%': '', 'NiftyGain': '', 'FD%': '', 'FD Gain': ''}, {'Currently': 'BALAJITELE', 'Value': 90.3, '': '', 'Year': '-4.71%', 'YInvested': 0.12, 'Gain': '', 'Dividend': '', 'IRR%': '', 'Nifty%': '', 'NiftyGain': '', 'FD%': '', 'FD Gain': ''}, {'Currently': 'BANKBARODA', 'Value': 151.84, '': '', 'Year': '-68.62%', 'YInvested': 2.47, 'Gain': '', 'Dividend': '', 'IRR%': '', 'Nifty%': '', 'NiftyGain': '', 'FD%': '', 'FD Gain': ''}, {'Currently': 'BHARATFORG', 'Value': 521.84, '': '', 'Year': '-6.10%', 'YInvested': -1.91, 'Gain': '', 'Dividend': '', 'IRR%': '', 'Nifty%': '', 'NiftyGain': '', 'FD%': '', 'FD Gain': ''}, {'Currently': 'BHEL', 'Value': 43.85, '': '', 'Year': '-13.23%', 'YInvested': 1.6, 'Gain': '', 'Dividend': '', 'IRR%': '', 'Nifty%': '', 'NiftyGain': '', 'FD%': '', 'FD Gain': ''}, {'Currently': 'COALINDIA', 'Value': 193.53, '': '', 'Year': '-30.06%', 'YInvested': -0.95, 'Gain': '', 'Dividend': '', 'IRR%': '', 'Nifty%': '', 'NiftyGain': '', 'FD%': '', 'FD Gain': ''}, {'Currently': 'GDL', 'Value': 166.11, '': '', 'Year': '-47.69%', 'YInvested': 1.88, 'Gain': '', 'Dividend': '', 'IRR%': '', 'Nifty%': '', 'NiftyGain': '', 'FD%': '', 'FD Gain': ''}, {'Currently': 'INDOTECH', 'Value': 140.57, '': '', 'Year': '-28.08%', 'YInvested': -0.2, 'Gain': '', 'Dividend': '', 'IRR%': '', 'Nifty%': '', 'NiftyGain': '', 'FD%': '', 'FD Gain': ''}, {'Currently': 'ITC', 'Value': 212.78, '': '', 'Year': '-6.66%', 'YInvested': 0.03, 'Gain': '', 'Dividend': '', 'IRR%': '', 'Nifty%': '', 'NiftyGain': '', 'FD%': '', 'FD Gain': ''}, {'Currently': 'JPASSOCIAT', 'Value': 6.43, '': '', 'Year': '-37.79%', 'YInvested': 3.9, 'Gain': '', 'Dividend': '', 'IRR%': '', 'Nifty%': '', 'NiftyGain': '', 'FD%': '', 'FD Gain': ''}, {'Currently': 'LUPIN', 'Value': 1036.44, '': '', 'Year': '-5.01%', 'YInvested': 0.29, 'Gain': '', 'Dividend': '', 'IRR%': '', 'Nifty%': '', 'NiftyGain': '', 'FD%': '', 'FD Gain': ''}, {'Currently': 'MOTHERSUMI', 'Value': 210.03, '': '', 'Year': '-40.32%', 'YInvested': -0.79, 'Gain': '', 'Dividend': '', 'IRR%': '', 'Nifty%': '', 'NiftyGain': '', 'FD%': '', 'FD Gain': ''}, {'Currently': 'NMDC', 'Value': 114.93, '': '', 'Year': '-15.08%', 'YInvested': 2.79, 'Gain': '', 'Dividend': '', 'IRR%': '', 'Nifty%': '', 'NiftyGain': '', 'FD%': '', 'FD Gain': ''}, {'Currently': 'OFSS', 'Value': 3562.04, '': '', 'Year': '-14.38%', 'YInvested': -0.48, 'Gain': '', 'Dividend': '', 'IRR%': '', 'Nifty%': '', 'NiftyGain': '', 'FD%': '', 'FD Gain': ''}, {'Currently': 'RECLTD', 'Value': 147.19, '': '', 'Year': '-22.14%', 'YInvested': 3.52, 'Gain': '', 'Dividend': '', 'IRR%': '', 'Nifty%': '', 'NiftyGain': '', 'FD%': '', 'FD Gain': ''}, {'Currently': 'RPOWER', 'Value': 6, '': '', 'Year': '-34.17%', 'YInvested': 5.33, 'Gain': '', 'Dividend': '', 'IRR%': '', 'Nifty%': '', 'NiftyGain': '', 'FD%': '', 'FD Gain': ''}, {'Currently': 'SJVN', 'Value': 27.14, '': '', 'Year': '-13.41%', 'YInvested': 1.51, 'Gain': '', 'Dividend': '', 'IRR%': '', 'Nifty%': '', 'NiftyGain': '', 'FD%': '', 'FD Gain': ''}, {'Currently': 'SUNPHARMA', 'Value': 508.8, '': '', 'Year': '3.44%', 'YInvested': 0.06, 'Gain': '', 'Dividend': '', 'IRR%': '', 'Nifty%': '', 'NiftyGain': '', 'FD%': '', 'FD Gain': ''}, {'Currently': 'TATAMOTORS', 'Value': 166.42, '': '', 'Year': '-24.71%', 'YInvested': -0.24, 'Gain': '', 'Dividend': '', 'IRR%': '', 'Nifty%': '', 'NiftyGain': '', 'FD%': '', 'FD Gain': ''}, {'Currently': 'TATAPOWER', 'Value': 68.08, '': '', 'Year': '-16.42%', 'YInvested': 2.25, 'Gain': '', 'Dividend': '', 'IRR%': '', 'Nifty%': '', 'NiftyGain': '', 'FD%': '', 'FD Gain': ''}, {'Currently': 'WELSPUNIND', 'Value': 46.46, '': '', 'Year': '8.48%', 'YInvested': 1.51, 'Gain': '', 'Dividend': '', 'IRR%': '', 'Nifty%': '', 'NiftyGain': '', 'FD%': '', 'FD Gain': ''}, {'Currently': 'YESBANK', 'Value': 11.71, '': '', 'Year': '34.93%', 'YInvested': 4.98, 'Gain': '', 'Dividend': '', 'IRR%': '', 'Nifty%': '', 'NiftyGain': '', 'FD%': '', 'FD Gain': ''}]\n"
     ]
    }
   ],
   "source": [
    "import gspread\n",
    "from oauth2client.service_account import ServiceAccountCredentials\n",
    "\n",
    "# use creds to create a client to interact with the Google Drive API\n",
    "scope = ['https://www.googleapis.com/auth/drive']\n",
    "creds = ServiceAccountCredentials.from_json_keyfile_name('client_secret.json', scope)\n",
    "client = gspread.authorize(creds)\n",
    "\n",
    "# Find a workbook by name and open the first sheet\n",
    "# Make sure you use the right name here.\n",
    "\n",
    "sheet = client.open(\"StockHoldNAnalysis\").sheet1\n",
    "\n",
    "# Extract and print all of the values\n",
    "\n",
    "list_of_hashes = sheet.get_all_records()\n",
    "print(list_of_hashes)"
   ]
  },
  {
   "cell_type": "code",
   "execution_count": null,
   "metadata": {},
   "outputs": [],
   "source": [
    "import pandas as pd\n",
    "import yfinance as yf\n",
    "\n",
    "Period = '6mo' if (Interval[-1] == 'd') else '5d'\n",
    "for Stock in gv.DiscMinStock: ListOfStocks=ListOfStocks.replace(Stock,'')\n",
    "BulkData=yf.download('NMDC.NS', period=Period,interval=Interval)\n"
   ]
  }
 ],
 "metadata": {
  "kernelspec": {
   "display_name": "Python 3",
   "language": "python",
   "name": "python3"
  },
  "language_info": {
   "codemirror_mode": {
    "name": "ipython",
    "version": 3
   },
   "file_extension": ".py",
   "mimetype": "text/x-python",
   "name": "python",
   "nbconvert_exporter": "python",
   "pygments_lexer": "ipython3",
   "version": "3.8.5"
  }
 },
 "nbformat": 4,
 "nbformat_minor": 4
}
