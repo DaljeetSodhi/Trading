{
 "cells": [
  {
   "cell_type": "code",
   "execution_count": 1,
   "metadata": {},
   "outputs": [
    {
     "name": "stdout",
     "output_type": "stream",
     "text": [
      "13 08:50:22 Fetching Previous Days Data \n",
      "[*********************100%***********************]  156 of 156 completed\n",
      "13 08:51:52 Day Processing Completed\n",
      "Filter:  Data['RSI'] >= 40 Rows  156 -> 88\n",
      "Short  .. Opportunities\n",
      "         Stock   Lot  D1Close2P  DClose1P  DClose2P  DHigh1P  DHigh2P   RSI\n",
      "   JSWSTEEL.NS  16.3       -1.6      -2.8       1.1      0.1      2.7  82.2\n",
      " LALPATHLAB.NS   8.3        6.1       6.0       0.1      7.7      3.1  81.5\n",
      "      CIPLA.NS  11.7        6.7       2.1       4.6      6.1      5.6  77.4\n",
      "    DRREDDY.NS   6.2        6.2       4.7       1.5      7.0      2.2  73.3\n",
      "  BRITANNIA.NS   7.6       -0.1       0.4      -0.5      1.4      0.7  71.2\n",
      "         Stock   Lot  DClose1P  DClose2P  DHigh1P  DHigh2P   RSI  D1Close2P\n",
      "      CIPLA.NS  11.7       2.1       4.6      6.1      5.6  77.4        6.7\n",
      "    DRREDDY.NS   6.2       4.7       1.5      7.0      2.2  73.3        6.2\n",
      " LALPATHLAB.NS   8.3       6.0       0.1      7.7      3.1  81.5        6.1\n",
      "   CADILAHC.NS  11.0      -3.0       8.5      3.3      9.1  69.9        5.8\n",
      "     PFIZER.NS   6.0      -0.5       3.9      2.8      4.5  64.7        3.4\n",
      "\n",
      "         Stock   Lot  DClose1P  DClose2P  DHigh2P   RSI  D1Close2P  DHigh1P\n",
      " LALPATHLAB.NS   8.3       6.0       0.1      3.1  81.5        6.1      7.7\n",
      "    DRREDDY.NS   6.2       4.7       1.5      2.2  73.3        6.2      7.0\n",
      "      CIPLA.NS  11.7       2.1       4.6      5.6  77.4        6.7      6.1\n",
      " TORNTPHARM.NS   6.4      -0.7       1.0      2.2  55.6        0.3      4.0\n",
      "   DIVISLAB.NS   7.6       0.7       1.0      1.8  69.0        1.7      3.7\n",
      "       Stock   Lot  DClose1P  DClose2P   RSI  D1Close2P  DHigh1P  DHigh2P\n",
      " CADILAHC.NS  11.0      -3.0       8.5  69.9        5.8      3.3      9.1\n",
      "     LTTS.NS   5.7      -2.6       1.5  61.1       -1.0     -0.1      6.4\n",
      "    ALKEM.NS   5.5      -3.2       4.4  50.8        1.4      2.0      6.1\n",
      "    PIIND.NS   6.2      -3.8       1.5  63.4       -2.2     -1.4      5.6\n",
      "    CIPLA.NS  11.7       2.1       4.6  77.4        6.7      6.1      5.6\n",
      "         Stock   Lot  DClose2P   RSI  D1Close2P  DHigh1P  DHigh2P  DClose1P\n",
      " LALPATHLAB.NS   8.3       0.1  81.5        6.1      7.7      3.1       6.0\n",
      "    DRREDDY.NS   6.2       1.5  73.3        6.2      7.0      2.2       4.7\n",
      "      CIPLA.NS  11.7       4.6  77.4        6.7      6.1      5.6       2.1\n",
      "   DIVISLAB.NS   7.6       1.0  69.0        1.7      3.7      1.8       0.7\n",
      "  BRITANNIA.NS   7.6      -0.5  71.2       -0.1      1.4      0.7       0.4\n",
      "       Stock   Lot   RSI  D1Close2P  DHigh1P  DHigh2P  DClose1P  DClose2P\n",
      " CADILAHC.NS  11.0  69.9        5.8      3.3      9.1      -3.0       8.5\n",
      " GLENMARK.NS   5.7  55.3       -1.4      1.4      5.5      -6.4       4.7\n",
      "    CIPLA.NS  11.7  77.4        6.7      6.1      5.6       2.1       4.6\n",
      "    ALKEM.NS   5.5  50.8        1.4      2.0      6.1      -3.2       4.4\n",
      "   APLLTD.NS   5.3  52.1       -1.3      1.0      5.0      -5.6       4.0\n"
     ]
    },
    {
     "data": {
      "text/plain": [
       "()"
      ]
     },
     "execution_count": 1,
     "metadata": {},
     "output_type": "execute_result"
    }
   ],
   "source": [
    "import TradeUtils as tu\n",
    "import OtherUtils as ou\n",
    "FnO=ou.GetFnOList()\n",
    "DaysData=tu.AddDaysInfo(FnO)\n",
    "tu.DisplayData(DaysData, 'Day', 'Short',5)"
   ]
  },
  {
   "cell_type": "code",
   "execution_count": 7,
   "metadata": {},
   "outputs": [
    {
     "name": "stdout",
     "output_type": "stream",
     "text": [
      "Filter:  Data['RSI'] <= 60 Rows  156 -> 134\n",
      "Long  .. Opportunities\n",
      "         Stock  Lot  D1Close2P  DClose1P  DClose2P  DLow1P  DLow2P   RSI\n",
      "        PVR.NS  4.4       -5.1      -5.6       0.5    -9.2    -1.7  23.5\n",
      "  BATAINDIA.NS  7.2       -7.6      -6.5      -1.0    -7.2    -1.1  24.2\n",
      " IBULHSGFIN.NS  5.2      -13.4     -14.0       0.5   -15.4    -1.2  25.7\n",
      " AMARAJABAT.NS  8.0       -2.1      -2.1      -0.0    -2.6    -0.3  26.3\n",
      " HEROMOTOCO.NS  8.4       -5.1      -4.6      -0.5    -6.3    -0.9  26.5\n",
      "         Stock   Lot  DClose1P  DClose2P  DLow1P  DLow2P   RSI  D1Close2P\n",
      "     AUBANK.NS   5.4      -9.1      -6.6   -14.5    -7.0  39.5      -16.3\n",
      " SRTRANSFIN.NS  10.4     -13.0      -1.7   -13.7    -2.7  40.9      -14.9\n",
      "       BHEL.NS   9.5     -14.3      -0.2   -16.3    -1.0  39.6      -14.5\n",
      "     M&MFIN.NS   6.8     -12.8      -1.1   -17.6    -1.9  31.7      -14.1\n",
      "  TATAPOWER.NS  12.4     -12.9      -0.8   -15.8    -1.9  35.9      -13.8\n",
      "\n",
      "         Stock  Lot  DClose1P  DClose2P  DLow2P   RSI  D1Close2P  DLow1P\n",
      "     M&MFIN.NS  6.8     -12.8      -1.1    -1.9  31.7      -14.1   -17.6\n",
      " IDFCFIRSTB.NS  9.6     -10.4      -3.0    -3.5  33.4      -13.6   -17.5\n",
      " BANKBARODA.NS  7.7     -12.0       0.7    -0.8  33.7      -11.2   -17.0\n",
      "       ZEEL.NS  5.4     -13.8       2.0    -0.5  33.0      -11.5   -17.0\n",
      "       BHEL.NS  9.5     -14.3      -0.2    -1.0  39.6      -14.5   -16.3\n",
      "         Stock   Lot  DClose1P  DClose2P   RSI  D1Close2P  DLow1P  DLow2P\n",
      "     AUBANK.NS   5.4      -9.1      -6.6  39.5      -16.3   -14.5    -7.0\n",
      "       VEDL.NS  13.2      -8.5      -2.8  41.2      -11.5   -10.3    -4.2\n",
      " BAJFINANCE.NS  11.3      -8.0      -3.2  27.1      -11.5   -10.7    -3.8\n",
      "       SAIL.NS  16.1     -11.4      -1.3  56.3      -12.9   -13.1    -3.6\n",
      " IDFCFIRSTB.NS   9.6     -10.4      -3.0  33.4      -13.6   -17.5    -3.5\n",
      "         Stock   Lot  DClose2P   RSI  D1Close2P  DLow1P  DLow2P  DClose1P\n",
      "       BHEL.NS   9.5      -0.2  39.6      -14.5   -16.3    -1.0     -14.3\n",
      " IBULHSGFIN.NS   5.2       0.5  25.7      -13.4   -15.4    -1.2     -14.0\n",
      "       ZEEL.NS   5.4       2.0  33.0      -11.5   -17.0    -0.5     -13.8\n",
      "        DLF.NS   8.1      -0.3  28.4      -13.7   -14.6    -0.8     -13.4\n",
      " SRTRANSFIN.NS  10.4      -1.7  40.9      -14.9   -13.7    -2.7     -13.0\n",
      "         Stock   Lot   RSI  D1Close2P  DLow1P  DLow2P  DClose1P  DClose2P\n",
      "     AUBANK.NS   5.4  39.5      -16.3   -14.5    -7.0      -9.1      -6.6\n",
      " BAJFINANCE.NS  11.3  27.1      -11.5   -10.7    -3.8      -8.0      -3.2\n",
      " IDFCFIRSTB.NS   9.6  33.4      -13.6   -17.5    -3.5     -10.4      -3.0\n",
      "       VEDL.NS  13.2  41.2      -11.5   -10.3    -4.2      -8.5      -2.8\n",
      " INDUSTOWER.NS   6.8  43.9       -8.6    -6.5    -3.4      -5.7      -2.7\n"
     ]
    },
    {
     "data": {
      "text/plain": [
       "()"
      ]
     },
     "execution_count": 7,
     "metadata": {},
     "output_type": "execute_result"
    }
   ],
   "source": [
    "tu.DisplayData(DaysData, 'Day', 'Long',5)"
   ]
  },
  {
   "cell_type": "code",
   "execution_count": 2,
   "metadata": {},
   "outputs": [
    {
     "name": "stdout",
     "output_type": "stream",
     "text": [
      "13 08:51:52 Fetching IntraDay Data\n",
      "[*********************100%***********************]  156 of 156 completed\n",
      "13 08:53:25 Fetching Current Prices\n",
      "13 08:54:08 Intra Day Processing Completed\n",
      "Filter:  Data['RSI'] >= 40 Rows  156 -> 88\n",
      "Short  .. Opportunities\n",
      "       Stock   Lot   RSI  DClose1P  RSI15m  MLow2P  MLow1P  TodayP  RSIMA15m\n",
      "    CIPLA.NS  11.7  77.4       2.1    51.0     1.5     0.6     0.5      68.0\n",
      " CADILAHC.NS  11.0  69.9      -3.0    42.1     2.2     1.2     1.1      65.0\n",
      "   PFIZER.NS   6.0  64.7      -0.5    56.7     0.9     0.9     0.5      63.0\n",
      "       Stock   Lot   RSI  DClose1P  RSI15m  MLow2P  MLow1P  RSIMA15m  TodayP\n",
      "  DRREDDY.NS   6.2  73.3       4.7    76.8     4.4     3.4      60.0     2.0\n",
      " CADILAHC.NS  11.0  69.9      -3.0    42.1     2.2     1.2      65.0     1.1\n",
      " SHREECEM.NS  14.9  57.2      -6.3    26.7     1.4     1.4      43.0     1.1\n",
      "       Stock   Lot   RSI  DClose1P  RSI15m  MLow2P  RSIMA15m  TodayP  MLow1P\n",
      "  DRREDDY.NS   6.2  73.3       4.7    76.8     4.4      60.0     2.0     3.4\n",
      " MINDTREE.NS  17.1  64.9      -3.9    44.7     1.4      48.0     0.7     1.5\n",
      " SHREECEM.NS  14.9  57.2      -6.3    26.7     1.4      43.0     1.1     1.4\n",
      "         Stock   Lot   RSI  DClose1P  RSI15m  RSIMA15m  TodayP  MLow1P  MLow2P\n",
      "    DRREDDY.NS   6.2  73.3       4.7    76.8      60.0     2.0     3.4     4.4\n",
      " BANDHANBNK.NS   5.9  41.9      -9.6    45.8      41.0     1.0     1.4     2.4\n",
      "   HINDALCO.NS  14.5  50.7      -7.4    41.2      39.0     0.9     0.7     2.2\n"
     ]
    },
    {
     "data": {
      "text/plain": [
       "()"
      ]
     },
     "execution_count": 2,
     "metadata": {},
     "output_type": "execute_result"
    }
   ],
   "source": [
    "TotRecs=DaysData.copy()\n",
    "CombData=tu.AddIntraDay(TotRecs, '15m')\n",
    "tu.DisplayData(CombData, 'Intra', 'Short', 3)"
   ]
  },
  {
   "cell_type": "code",
   "execution_count": 3,
   "metadata": {},
   "outputs": [
    {
     "name": "stdout",
     "output_type": "stream",
     "text": [
      "Filter:  Data['RSI'] <= 60 Rows  156 -> 134\n",
      "Long  .. Opportunities\n",
      "         Stock   Lot   RSI  DClose1P  RSI15m  MHigh2P  MHigh1P  TodayP  RSIMA15m\n",
      " BAJFINANCE.NS  11.3  27.1      -8.0    37.9      0.1     -0.3     0.2      26.0\n",
      "     AUBANK.NS   5.4  39.5      -9.1    47.3     -0.3     -0.3     0.5      27.0\n",
      "       NTPC.NS   5.6  36.4      -3.8    49.1      0.3     -0.2     0.3      27.0\n",
      "        UPL.NS   7.7  43.2      -7.7    36.1     -0.7     -0.5     0.2      28.0\n",
      " MCDOWELL-N.NS   6.4  33.4      -4.2    43.9     -0.3     -0.4    -0.1      29.0\n",
      "         Stock   Lot   RSI  DClose1P  RSI15m  MHigh2P  MHigh1P  RSIMA15m  TodayP\n",
      "   ADANIENT.NS  21.5  57.2     -11.8    31.8     -1.4     -1.3      45.0    -0.6\n",
      " CUMMINSIND.NS   9.8  41.9      -6.4    27.7     -0.9     -0.6      32.0    -0.4\n",
      "       VEDL.NS  13.2  41.2      -8.5    35.8     -0.2     -1.1      34.0    -0.3\n",
      " TORNTPOWER.NS  12.0  44.8      -5.6    33.6     -0.3     -0.3      39.0    -0.3\n",
      "    HAVELLS.NS   9.9  35.2      -6.9    21.6     -0.7     -0.4      40.0    -0.2\n",
      "       Stock   Lot   RSI  DClose1P  RSI15m  MHigh2P  RSIMA15m  TodayP  MHigh1P\n",
      " ADANIENT.NS  21.5  57.2     -11.8    31.8     -1.4      45.0    -0.6     -1.3\n",
      " GMRINFRA.NS   5.3  36.4      -6.2    46.2     -0.6      44.0     0.2     -1.3\n",
      "   RECLTD.NS   7.5  33.9      -5.6    46.6      0.1      35.0    -0.1     -1.3\n",
      "     VEDL.NS  13.2  41.2      -8.5    35.8     -0.2      34.0    -0.3     -1.1\n",
      "      DLF.NS   8.1  28.4     -13.4    29.9      0.4      35.0     0.3     -0.9\n",
      "         Stock   Lot   RSI  DClose1P  RSI15m  RSIMA15m  TodayP  MHigh1P  MHigh2P\n",
      "   ADANIENT.NS  21.5  57.2     -11.8    31.8      45.0    -0.6     -1.3     -1.4\n",
      "        UBL.NS   7.6  31.9      -2.1    34.3      37.0    -0.2     -0.7     -1.1\n",
      "     M&MFIN.NS   6.8  31.7     -12.8    38.7      33.0     0.1     -0.5     -0.9\n",
      " CUMMINSIND.NS   9.8  41.9      -6.4    27.7      32.0    -0.4     -0.6     -0.9\n",
      "        UPL.NS   7.7  43.2      -7.7    36.1      28.0     0.2     -0.5     -0.7\n"
     ]
    },
    {
     "data": {
      "text/plain": [
       "()"
      ]
     },
     "execution_count": 3,
     "metadata": {},
     "output_type": "execute_result"
    }
   ],
   "source": [
    "tu.DisplayData(CombData, 'Intra', 'Long', 5)"
   ]
  },
  {
   "cell_type": "code",
   "execution_count": 4,
   "metadata": {
    "scrolled": true
   },
   "outputs": [
    {
     "name": "stdout",
     "output_type": "stream",
     "text": [
      "Reading File : ../reports/1ToTrade.csv  (Created on) :  2021-04-13 08:31:04.335458\n",
      "         Stock        Date   RSI     Close  DivDays  PerGain  LastRSI  LastClose  LastHigh   LastLow   Lot\n",
      "      TRENT.NS  2021-04-06  30.8    703.65     67.0     1.01     35.1     710.75    719.80    689.00   5.2\n",
      "    ESCORTS.NS  2021-04-06  32.8   1222.05     67.0    -0.50     36.0    1216.00   1254.45   1193.00   6.7\n",
      " CENTURYTEX.NS  2021-04-06  35.7    438.30     71.0     3.89     44.8     455.35    477.10    445.60   NaN\n",
      "    APTECHT.NS  2021-03-31  30.7    186.35    188.0     4.32     41.0     194.40    209.75    192.55   NaN\n",
      "       ABAN.NS  2021-03-30  35.6     29.45     57.0     3.06     41.9      30.35     31.05     30.35   NaN\n",
      "       PGHH.NS  2021-03-30  38.7  12383.10     56.0     6.43     59.3   13179.70  13323.90  12901.00   NaN\n",
      " BAJAJHLDNG.NS  2021-03-30  29.8   3197.20     98.0     2.59     40.9    3279.95   3366.85   3225.15   NaN\n",
      "        HEG.NS  2021-03-26  45.5   1420.80     60.0    43.92     63.8    2044.80   2190.00   2044.80   NaN\n",
      "       NHPC.NS  2021-03-26  36.8     23.25     57.0     0.86     40.2      23.45     24.05     23.40   NaN\n",
      "     COLPAL.NS  2021-03-25  34.0   1530.25     62.0     1.89     45.9    1559.20   1602.00   1554.00  10.9\n",
      " BHARATFORG.NS  2021-03-25  36.3    570.55     85.0     1.83     41.1     581.00    600.00    574.30   8.7\n",
      "  WHIRLPOOL.NS  2021-03-25  20.7   2156.15    155.0    -0.02     29.4    2155.80   2182.90   2129.95   NaN\n",
      "   BOSCHLTD.NS  2021-03-25  30.2  13688.00    127.0    -0.04     37.9   13681.95  14380.00  13620.50   6.8\n",
      "  COALINDIA.NS  2021-03-25  29.2    128.10     55.0    -2.65     31.8     124.70    128.30    123.60   5.2\n",
      "   CROMPTON.NS  2021-03-25  35.7    367.00    196.0     4.02     46.1     381.75    390.50    378.60   NaN\n",
      "        PNB.NS  2021-03-25  33.6     35.50     56.0    -4.37     33.8      33.95     36.85     33.30   5.4\n",
      " NATIONALUM.NS  2021-03-25  40.5     52.00     94.0     3.27     43.8      53.70     57.85     52.75   9.1\n",
      "      DMART.NS  2021-03-25  36.7   2796.00     55.0     0.68     41.3    2814.90   2889.00   2790.10   NaN\n",
      "   EXIDEIND.NS  2021-03-25  26.7    181.10    182.0    -2.65     30.7     176.30    185.00    175.10   6.3\n",
      "       GAIL.NS  2021-03-25  35.4    128.00     55.0     3.71     43.7     132.75    135.65    130.55   8.1\n",
      " NATCOPHARM.NS  2021-04-09  71.7    921.95    123.0    -0.43     70.2     917.95    948.85    897.70   NaN\n",
      " AUROPHARMA.NS  2021-04-09  71.1    943.70     74.0    -3.02     60.1     915.20    949.25    906.00   5.9\n",
      "     PFIZER.NS  2021-04-09  67.2   4802.05    123.0    -0.54     64.7    4776.10   4940.00   4704.05   6.0\n",
      "       BBTC.NS  2021-04-09  66.2   1259.70    121.0    -5.89     50.4    1185.45   1249.90   1175.60   NaN\n",
      "        HEG.NS  2020-12-18  77.8    923.60    115.0   121.39     63.8    2044.80   2190.00   2044.80   NaN\n",
      "    YESBANK.NS  2020-12-10  89.1     20.45    185.0   -29.34     37.9      14.45     15.25     14.40   NaN\n",
      "  BANKINDIA.NS  2020-12-09  87.7     53.25    100.0    25.16     44.9      66.65     71.85     63.65   NaN\n",
      "        IOC.NS  2020-12-09  79.8     93.95    139.0    -7.40     32.0      87.00     90.45     86.75   5.7\n",
      "       SJVN.NS  2020-12-09  80.7     25.20    104.0    -2.18     38.4      24.65     25.15     24.50   NaN\n",
      "       BHEL.NS  2020-12-09  80.7     36.60    103.0    23.09     39.6      45.05     50.00     44.30   9.5\n",
      "       IDBI.NS  2020-12-08  78.4     42.50    109.0   -20.47     39.6      33.80     35.80     33.30   NaN\n",
      " JUBLPHARMA.NS  2020-12-08  78.8    860.65    120.0   -14.63     50.4     734.70    793.05    706.70   NaN\n",
      " IBULHSGFIN.NS  2020-12-07  80.3    203.10    101.0   -16.99     25.7     168.60    186.90    166.55   5.2\n",
      "     RALLIS.NS  2020-12-07  73.1    293.40    103.0   -12.54     44.4     256.60    266.60    251.90   NaN\n",
      " BALAJITELE.NS  2020-12-07  74.5     72.45    122.0   -24.36     36.7      54.80     57.50     54.30   NaN\n",
      "  EDELWEISS.NS  2020-12-04  85.0     81.90    101.0   -21.12     39.1      64.60     66.70     64.60   NaN\n",
      "  FCONSUMER.NS  2020-11-25  73.9      9.05     85.0   -25.41     43.4       6.75      7.10      6.65   NaN\n",
      "      GICRE.NS  2020-11-25  78.8    139.50     90.0    40.75     47.3     196.35    207.40    195.25   NaN\n",
      "   PETRONET.NS  2020-11-17  75.3    259.35    134.0   -14.50     35.2     221.75    226.00    218.15   6.7\n",
      "  HINDPETRO.NS  2020-11-17  74.8    217.70    148.0     4.00     39.3     226.40    232.75    222.80   6.1\n"
     ]
    }
   ],
   "source": [
    "import pandas as pd\n",
    "pd.options.mode.chained_assignment = None  # default='warn'\n",
    "import TradeUtils as tu\n",
    "Result=tu.GetListToTrade()"
   ]
  },
  {
   "cell_type": "code",
   "execution_count": 5,
   "metadata": {},
   "outputs": [
    {
     "name": "stdout",
     "output_type": "stream",
     "text": [
      "13 08:54:09 Fetching Current Prices\n",
      "[*********************100%***********************]  39 of 39 completed\n",
      "Buying Opportunities ... 08:54:43\n",
      "         Stock   Date   RSI     Close  LastRSI  PerGain  PDay2P  PDayP  DayP       LTP   Lot  RSI15m  RSIMA15m\n",
      " BAJAJHLDNG.NS  03-30  29.8   3197.20     40.9     2.59   -3.19  -3.80 -0.13   3275.55   NaN    37.0      45.0\n",
      "     COLPAL.NS  03-25  34.0   1530.25     45.9     1.89   -1.94  -2.62 -0.01   1559.00  10.9    26.9      47.0\n",
      "       ABAN.NS  03-30  35.6     29.45     41.9     3.06   -5.89  -4.86  0.00     30.35   NaN     NaN       NaN\n",
      "        HEG.NS  03-26  45.5   1420.80     63.8    43.92  -13.59 -10.00  0.00   2044.80   NaN    30.5      39.0\n",
      "       NHPC.NS  03-26  36.8     23.25     40.2     0.86   -3.89  -3.30  0.00     23.45   NaN    36.1      37.0\n",
      "   EXIDEIND.NS  03-25  26.7    181.10     30.7    -2.65   -5.37  -5.34  0.11    176.50   6.3    31.8      38.0\n",
      "    ESCORTS.NS  04-06  32.8   1222.05     36.0    -0.50   -4.31  -4.09  0.13   1217.60   6.7    46.4      43.0\n",
      " CENTURYTEX.NS  04-06  35.7    438.30     44.8     3.89   -5.36  -6.09  0.14    456.00   NaN    43.1      47.0\n",
      "        PNB.NS  03-25  33.6     35.50     33.8    -4.37   -9.35 -10.30  0.15     34.00   5.4    32.7      40.0\n",
      "   BOSCHLTD.NS  03-25  30.2  13688.00     37.9    -0.04   -6.99  -5.58  0.21  13710.00   6.8    21.3      36.0\n",
      "    APTECHT.NS  03-31  30.7    186.35     41.0     4.32  -10.37  -9.01  0.21    194.80   NaN    30.4      30.0\n",
      "      DMART.NS  03-25  36.7   2796.00     41.3     0.68   -4.14  -4.51  0.23   2821.35   NaN    42.1      44.0\n",
      "  WHIRLPOOL.NS  03-25  20.7   2156.15     29.4    -0.02   -1.84  -1.00  0.31   2162.45   NaN    46.3      44.0\n",
      "       GAIL.NS  03-25  35.4    128.00     43.7     3.71   -4.19  -4.36  0.34    133.20   8.1    43.6      40.0\n",
      "  COALINDIA.NS  03-25  29.2    128.10     31.8    -2.65   -5.28  -3.71  0.44    125.25   5.2    43.1      31.0\n",
      " BHARATFORG.NS  03-25  36.3    570.55     41.1     1.83   -5.51  -4.79  0.48    583.80   8.7    35.4      40.0\n",
      "      TRENT.NS  04-06  30.8    703.65     35.1     1.01   -2.60  -2.53  0.48    714.15   5.2    45.3      45.0\n",
      "       PGHH.NS  03-30  38.7  12383.10     59.3     6.43   -0.10  -0.63  0.52  13248.30   NaN    57.7      56.0\n",
      "   CROMPTON.NS  03-25  35.7    367.00     46.1     4.02   -3.56  -2.61  0.54    383.80   NaN    37.0      44.0\n",
      " NATIONALUM.NS  03-25  40.5     52.00     43.8     3.27  -11.02  -9.60  0.84     54.15   9.1    37.0      36.0\n",
      "Selling Opportunities ... 08:54:43\n",
      "         Stock   Date   RSI    Close  LastRSI  PerGain  PDay2P  PDayP  DayP      LTP  Lot  RSI15m  RSIMA15m\n",
      "  FCONSUMER.NS  11-25  73.9     9.05     43.4   -25.41   -3.57  -5.59  1.48     6.85  NaN    42.4      45.0\n",
      " BALAJITELE.NS  12-07  74.5    72.45     36.7   -24.36   -6.88  -5.35  1.00    55.35  NaN    29.3      38.0\n",
      "    YESBANK.NS  12-10  89.1    20.45     37.9   -29.34   -7.07  -6.47  0.69    14.55  NaN    31.1      35.0\n",
      "  BANKINDIA.NS  12-09  87.7    53.25     44.9    25.16   -2.27 -10.54  0.53    67.00  NaN    43.3      51.0\n",
      "  HINDPETRO.NS  11-17  74.8   217.70     39.3     4.00   -5.17  -3.27  0.51   227.55  6.1    50.8      37.0\n",
      "     PFIZER.NS  04-09  67.2  4802.05     64.7    -0.54    3.53  -0.54  0.50  4800.00  6.0    56.7      63.0\n",
      " IBULHSGFIN.NS  12-07  80.3   203.10     25.7   -16.99  -11.84 -12.30  0.36   169.20  5.2    31.6      36.0\n",
      "       IDBI.NS  12-08  78.4    42.50     39.6   -20.47   -9.02  -8.89  0.30    33.90  NaN    35.9      34.0\n",
      "        IOC.NS  12-09  79.8    93.95     32.0    -7.40   -6.40  -5.13  0.23    87.20  5.7    36.5      31.0\n",
      "       BHEL.NS  12-09  80.7    36.60     39.6    23.09  -12.69 -12.52  0.22    45.15  9.5    31.2      37.0\n",
      "       BBTC.NS  04-09  66.2  1259.70     50.4    -5.89   -5.09  -5.89  0.22  1188.00  NaN    33.7      42.0\n",
      "       SJVN.NS  12-09  80.7    25.20     38.4    -2.18   -0.20  -1.60  0.20    24.70  NaN    42.1      44.0\n",
      " NATCOPHARM.NS  04-09  71.7   921.95     70.2    -0.43    1.08  -0.43  0.10   918.85  NaN    53.3      57.0\n",
      "   PETRONET.NS  11-17  75.3   259.35     35.2   -14.50   -3.71  -2.81  0.05   221.85  6.7    50.0      34.0\n",
      " JUBLPHARMA.NS  12-08  78.8   860.65     50.4   -14.63    4.32  -0.17  0.04   735.00  NaN    40.6      64.0\n",
      "  EDELWEISS.NS  12-04  85.0    81.90     39.1   -21.12   -6.31  -5.00  0.00    64.60  NaN    20.6      31.0\n",
      " AUROPHARMA.NS  04-09  71.1   943.70     60.1    -3.02    0.86  -3.02  0.00   915.20  5.9    39.2      56.0\n",
      "        HEG.NS  12-18  77.8   923.60     63.8   121.39  -13.59 -10.00  0.00  2044.80  NaN    30.5      39.0\n",
      "     RALLIS.NS  12-07  73.1   293.40     44.4   -12.54   -3.73  -4.66 -0.08   256.40  NaN    37.9      45.0\n",
      "      GICRE.NS  11-25  78.8   139.50     47.3    40.75   -8.05  -7.25 -0.51   195.35  NaN    26.6      38.0\n"
     ]
    }
   ],
   "source": [
    "TotRecs=Result.copy()\n",
    "tu.AddLatestToList(TotRecs,Action=0,RSIInterval='15m')"
   ]
  },
  {
   "cell_type": "code",
   "execution_count": 6,
   "metadata": {},
   "outputs": [
    {
     "name": "stdout",
     "output_type": "stream",
     "text": [
      "{'NMDC.NS': 134.25, 'RELIANCE.NS': 1911.15}\n"
     ]
    }
   ],
   "source": [
    "from yahoofinancials import YahooFinancials\n",
    "yahoo_financials = YahooFinancials('AAPL')\n",
    "yahoo_financials = YahooFinancials(['NMDC.NS', 'RELIANCE.NS'])\n",
    "print(yahoo_financials.get_current_price())"
   ]
  }
 ],
 "metadata": {
  "kernelspec": {
   "display_name": "Python 3",
   "language": "python",
   "name": "python3"
  },
  "language_info": {
   "codemirror_mode": {
    "name": "ipython",
    "version": 3
   },
   "file_extension": ".py",
   "mimetype": "text/x-python",
   "name": "python",
   "nbconvert_exporter": "python",
   "pygments_lexer": "ipython3",
   "version": "3.8.5"
  }
 },
 "nbformat": 4,
 "nbformat_minor": 4
}
