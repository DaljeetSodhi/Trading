{
 "cells": [
  {
   "cell_type": "code",
   "execution_count": 1,
   "metadata": {
    "scrolled": true
   },
   "outputs": [
    {
     "name": "stdout",
     "output_type": "stream",
     "text": [
      "08 19:23:39 ===== Day Processing /Already processed, Loading from file/\n",
      "08 19:23:39 ===== Analysis \n",
      "FnO Ban List : ['RBLBANK.NS']\n",
      "Short  .. Opportunities\n",
      "         Stock   MCap   Lot  LValue    Close  DClose2P  D1Close2P  DClose1P  DHigh1P  RSI\n",
      "       NTPC.NS    268  5700     8.7   152.05       0.3       -0.6      -0.9      0.9   77\n",
      "        BEL.NS    327  3800     9.1   239.60       6.5        8.9       2.2      3.3   77\n",
      "        HAL.NS    273   475     7.7  1620.20       2.0        4.7       2.7      3.4   77\n",
      "   ADANIENT.NS     75   500    10.9  2170.95      -2.8        0.5       3.4      3.7   75\n",
      " METROPOLIS.NS  17697   200     5.0  2475.30       2.7        2.9       0.2      2.4   75\n",
      "        ITC.NS    273  3200     8.6   267.80      -1.1        3.2       4.3      4.8   74\n",
      "       Stock  MCap   Lot  LValue    Close  DClose2P  D1Close2P  RSI  DHigh1P  DClose1P\n",
      " CHOLAFIN.NS   771  1250     9.3   741.75      -2.3        5.5   61      9.4       8.0\n",
      "  SYNGENE.NS   625   850     5.5   648.35       0.1        6.4   72      7.3       6.3\n",
      "   GRASIM.NS   416   475     8.4  1771.25      -1.0        4.2   69      6.2       5.3\n",
      "  SBILIFE.NS  1161   750     8.7  1160.45       0.2        4.8   63      5.1       4.7\n",
      "      ITC.NS   273  3200     8.6   267.80      -1.1        3.2   74      4.8       4.3\n",
      " JSWSTEEL.NS  1829  1350    10.2   756.60      -1.3        2.6   66      4.7       3.9\n",
      "       Stock  MCap    Lot  LValue    Close  DClose2P  D1Close2P  RSI  DClose1P  DHigh1P\n",
      " CHOLAFIN.NS   771   1250     9.3   741.75      -2.3        5.5   61       8.0      9.4\n",
      "  SYNGENE.NS   625    850     5.5   648.35       0.1        6.4   72       6.3      7.3\n",
      " GODREJCP.NS  1674    500     4.1   811.65       3.9        7.9   64       3.9      6.6\n",
      "   GRASIM.NS   416    475     8.4  1771.25      -1.0        4.2   69       5.3      6.2\n",
      "     IDEA.NS   360  70000     7.8    11.20       0.9        3.7   62       2.8      6.0\n",
      " TATACOMM.NS   192    400     5.4  1349.30       4.8        6.4   73       1.6      5.5\n"
     ]
    },
    {
     "data": {
      "text/plain": [
       "()"
      ]
     },
     "execution_count": 1,
     "metadata": {},
     "output_type": "execute_result"
    }
   ],
   "source": [
    "#import InterfaceUtils as iu\n",
    "#iu.StockMenu()\n",
    "import TradeUtils as tu\n",
    "DaysData=tu.ProcessDaysData(False)\n",
    "tu.DisplayData(DaysData, 'Day', 'Short', 6)\n",
    "#print(DaysData.to_string(index=False))"
   ]
  },
  {
   "cell_type": "code",
   "execution_count": null,
   "metadata": {
    "scrolled": true
   },
   "outputs": [],
   "source": [
    "import TradeUtils as tu\n",
    "DaysData=tu.ProcessDaysData(True)\n",
    "import itables\n",
    "itables.init_notebook_mode(all_interactive=True)\n",
    "itables.show(DaysData)\n",
    "#import qgrid\n",
    "#qgrid.show_grid(DaysData, show_toolbar=True)"
   ]
  },
  {
   "cell_type": "code",
   "execution_count": 4,
   "metadata": {},
   "outputs": [
    {
     "name": "stdout",
     "output_type": "stream",
     "text": [
      "[*********************100%***********************]  1 of 1 completed\n",
      "            Open  High   Low  Close  Adj Close  Volume\n",
      "Date                                                  \n",
      "2010-02-22     9     9  8.81   8.81       8.81    3100\n",
      "2010-02-23     9     9  7.93   8.79       8.79   39280\n",
      "2010-02-24     8     8  8.50   8.50       8.50   11000\n",
      "2010-03-01     9     9  8.75   8.75       8.75    3400\n",
      "2010-03-03     8     9  8.50   8.50       8.50   34800\n",
      "...          ...   ...   ...    ...        ...     ...\n",
      "2017-12-06     3     3  3.40   3.40       3.40     585\n",
      "2017-12-07     3     3  3.40   3.40       3.40    1279\n",
      "2017-12-11     4     4  3.75   3.75       3.75       0\n",
      "2018-01-17     3     4  3.44   3.50       3.50  650377\n",
      "2018-01-22     4     4  3.50   3.50       3.50  145000\n",
      "\n",
      "[631 rows x 6 columns]\n"
     ]
    }
   ],
   "source": [
    "import yfinance as yf\n",
    "import numpy as np\n",
    "BulkData=yf.download('NMDC')\n",
    "#print(BulkData)\n",
    "BulkData['Open']=round(BulkData['Open'],0)\n",
    "BulkData['High']=round(BulkData['High'],0)\n",
    "cols=['High', 'Open']\n",
    "BulkData[cols] = BulkData[cols].astype('Int32')\n",
    "print(BulkData)"
   ]
  }
 ],
 "metadata": {
  "kernelspec": {
   "display_name": "Python 3",
   "language": "python",
   "name": "python3"
  },
  "language_info": {
   "codemirror_mode": {
    "name": "ipython",
    "version": 3
   },
   "file_extension": ".py",
   "mimetype": "text/x-python",
   "name": "python",
   "nbconvert_exporter": "python",
   "pygments_lexer": "ipython3",
   "version": "3.7.6"
  }
 },
 "nbformat": 4,
 "nbformat_minor": 4
}
